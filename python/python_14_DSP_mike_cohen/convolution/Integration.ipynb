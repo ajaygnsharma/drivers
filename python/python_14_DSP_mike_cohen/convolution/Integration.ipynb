{
 "cells": [
  {
   "cell_type": "code",
   "execution_count": 1,
   "id": "3d4c8bc8-4d50-4852-a5b1-50523500ec6c",
   "metadata": {},
   "outputs": [],
   "source": [
    "import numpy as np\n",
    "from scipy.integrate import trapz\n"
   ]
  },
  {
   "cell_type": "code",
   "execution_count": 2,
   "id": "c80f352a-a236-4c93-b639-a6faa9fa6e62",
   "metadata": {},
   "outputs": [],
   "source": [
    "a = 0\n",
    "b = np.pi\n",
    "n = 11\n",
    "h = (b-a)/(n-1)\n",
    "x = np.linspace(0,np.pi,11);\n",
    "f = np.sin(x);\n",
    "\n"
   ]
  },
  {
   "cell_type": "code",
   "execution_count": 3,
   "id": "08d0110d-cd36-4226-8b5e-3b1ac8f12ed0",
   "metadata": {},
   "outputs": [],
   "source": [
    "from sympy import Symbol, integrate\n",
    "\n",
    "x = Symbol('x');\n",
    "y = integrate(x**2, x);\n"
   ]
  },
  {
   "cell_type": "code",
   "execution_count": 4,
   "id": "b33946ee-cfb7-4d13-8ef8-18b7de4556c4",
   "metadata": {},
   "outputs": [
    {
     "name": "stdout",
     "output_type": "stream",
     "text": [
      "x**3/3\n"
     ]
    }
   ],
   "source": [
    "print(y);\n"
   ]
  }
 ],
 "metadata": {
  "kernelspec": {
   "display_name": "Python 3 (ipykernel)",
   "language": "python",
   "name": "python3"
  },
  "language_info": {
   "codemirror_mode": {
    "name": "ipython",
    "version": 3
   },
   "file_extension": ".py",
   "mimetype": "text/x-python",
   "name": "python",
   "nbconvert_exporter": "python",
   "pygments_lexer": "ipython3",
   "version": "3.10.12"
  }
 },
 "nbformat": 4,
 "nbformat_minor": 5
}
